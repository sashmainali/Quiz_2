{
 "cells": [
  {
   "cell_type": "markdown",
   "metadata": {},
   "source": [
    "<div class=\"image\">\n",
    "\n",
    "  <img style=\"float: right;\" src=\"https://pku.org.uk/head.png\" width=\"45%\" align=\"right\">\n",
    "      <h4>\n",
    "          <p style=\"font-size:25pt\">UK19B307 AI Analytics</p>\n",
    "          <p style=\"font-size:15pt\">Quiz 2</p>\n",
    "      </h4>\n",
    "<h5>\n",
    "    <p> Peking University</p>\n",
    "    <p> Demonstrable Labs</p>\n",
    "</h5>\n",
    "</div>"
   ]
  },
  {
   "cell_type": "markdown",
   "metadata": {},
   "source": [
    "### Please doule click this block and enter your name / ID:\n",
    "\n",
    "- Name: Sashanta Mainali \n",
    "- ID: 1901213962"
   ]
  },
  {
   "cell_type": "markdown",
   "metadata": {},
   "source": [
    "<div class=\"alert alert-warning\">\n",
    "<b>QUESTION 1: </b> \n",
    "\n",
    "1, Define a string: `txt = 'USA#UK#Japan#Ghana'`.\n",
    "    \n",
    "2, Write code to transform the string with the hashtag separator into a list of words. Print the list, the expected output is:`['USA', 'UK', 'Japan', 'Ghana']`\n",
    "    \n",
    "</div>"
   ]
  },
  {
   "cell_type": "code",
   "execution_count": 4,
   "metadata": {},
   "outputs": [
    {
     "ename": "SyntaxError",
     "evalue": "invalid syntax (<ipython-input-4-823fe4bee4f1>, line 1)",
     "output_type": "error",
     "traceback": [
      "\u001b[1;36m  File \u001b[1;32m\"<ipython-input-4-823fe4bee4f1>\"\u001b[1;36m, line \u001b[1;32m1\u001b[0m\n\u001b[1;33m    def txt (input_string)\u001b[0m\n\u001b[1;37m                          ^\u001b[0m\n\u001b[1;31mSyntaxError\u001b[0m\u001b[1;31m:\u001b[0m invalid syntax\n"
     ]
    }
   ],
   "source": [
    "def txt (input_string)\n",
    "txt = 'USA#UK#Japan#Ghana'\n",
    "list= text.replace('#'),split()\n",
    "    output = []\n",
    "    for x in list:\n",
    "        if x not in output:\n",
    "            output.append(x)\n",
    "    return\n",
    "\n",
    "\n",
    "print(txt('USA#UK#Japan#Ghana'))"
   ]
  },
  {
   "cell_type": "markdown",
   "metadata": {},
   "source": [
    "<div class=\"alert alert-warning\">\n",
    "<b>QUESTION 2: </b> \n",
    "\n",
    "1, Define a string: `string_1 = 'John is the father of Mary.'`.\n",
    "    \n",
    "2, Write code to replace `John` with `Johnson`in the string. Print the new string, the expected output is:`Johnson is the father of Mary.`\n",
    "    \n",
    "</div>"
   ]
  },
  {
   "cell_type": "code",
   "execution_count": 5,
   "metadata": {},
   "outputs": [
    {
     "name": "stdout",
     "output_type": "stream",
     "text": [
      "Johnson is the father of Mary.\n"
     ]
    }
   ],
   "source": [
    "string_1 = 'John is the father of Mary.'\n",
    "print(string_1.replace('John', 'Johnson', (1)))"
   ]
  },
  {
   "cell_type": "markdown",
   "metadata": {},
   "source": [
    "<div class=\"alert alert-warning\">\n",
    "<b>QUESTION 3:</b>\n",
    "\n",
    "Create a function called `sqr_root_div_by_2` which takes an argument `x`. The function would calculate the square root of the argument, then divide the result of the square root by 2. Return the final result. If we call the function with `9`, it should return `1.5`. \n",
    "    \n",
    "Please make sure that the function only applies to real numbers, so should the user attempt to call the function with a negative number the function should **raise** a `ValueError`.\n",
    "\n",
    "</div>"
   ]
  },
  {
   "cell_type": "code",
   "execution_count": 8,
   "metadata": {},
   "outputs": [
    {
     "ename": "SyntaxError",
     "evalue": "invalid syntax (<ipython-input-8-e7a9197f1553>, line 2)",
     "output_type": "error",
     "traceback": [
      "\u001b[1;36m  File \u001b[1;32m\"<ipython-input-8-e7a9197f1553>\"\u001b[1;36m, line \u001b[1;32m2\u001b[0m\n\u001b[1;33m    sqr_root_div_by_2 = x: sqrt(x)/sqrt(2)\u001b[0m\n\u001b[1;37m                         ^\u001b[0m\n\u001b[1;31mSyntaxError\u001b[0m\u001b[1;31m:\u001b[0m invalid syntax\n"
     ]
    }
   ],
   "source": [
    "last = [9, 10]\n",
    "sqr_root_div_by_2 = lambda x: sqrt(x)/sqrt(2)\n",
    "sqr_root_div_by_2 (1st)\n",
    "\n",
    "\n",
    "\n",
    "sqr_root_div_by_2 = input('Please enter a number:')\n",
    "try: \n",
    "    value = \n",
    "\n"
   ]
  },
  {
   "cell_type": "markdown",
   "metadata": {},
   "source": [
    "<div class=\"alert alert-warning\">\n",
    "<b>QUESTION 4:</b> \n",
    "\n",
    "Create a file (`random.txt`) in the current directory and write `This is a random message.` to the file.\n",
    "    \n",
    "</div>"
   ]
  },
  {
   "cell_type": "code",
   "execution_count": 9,
   "metadata": {},
   "outputs": [],
   "source": [
    "file = open('random.txt', 'w') \n",
    " \n",
    "file.write('This is a random message')\n",
    " \n",
    "file.close() "
   ]
  },
  {
   "cell_type": "markdown",
   "metadata": {},
   "source": [
    "<div class=\"alert alert-warning\">\n",
    "<b>QUESTION 5:</b> \n",
    "\n",
    "Read the file `random.txt` created in the previous question and print the length of the content string (<code>This is a random message.</code>) in the file. The output should be `25`.\n",
    "</div>"
   ]
  },
  {
   "cell_type": "code",
   "execution_count": 47,
   "metadata": {},
   "outputs": [
    {
     "name": "stdout",
     "output_type": "stream",
     "text": [
      "This is a random message\n"
     ]
    },
    {
     "ename": "NameError",
     "evalue": "name 'random' is not defined",
     "output_type": "error",
     "traceback": [
      "\u001b[1;31m---------------------------------------------------------------------------\u001b[0m",
      "\u001b[1;31mNameError\u001b[0m                                 Traceback (most recent call last)",
      "\u001b[1;32m<ipython-input-47-2a1dcf8d04b1>\u001b[0m in \u001b[0;36m<module>\u001b[1;34m\u001b[0m\n\u001b[0;32m      2\u001b[0m     \u001b[0mprint\u001b[0m\u001b[1;33m(\u001b[0m\u001b[0mf\u001b[0m\u001b[1;33m.\u001b[0m\u001b[0mread\u001b[0m\u001b[1;33m(\u001b[0m\u001b[1;33m)\u001b[0m\u001b[1;33m)\u001b[0m\u001b[1;33m\u001b[0m\u001b[1;33m\u001b[0m\u001b[0m\n\u001b[0;32m      3\u001b[0m \u001b[1;33m\u001b[0m\u001b[0m\n\u001b[1;32m----> 4\u001b[1;33m \u001b[0mword_lengths\u001b[0m \u001b[1;33m=\u001b[0m \u001b[1;33m[\u001b[0m\u001b[0mlen\u001b[0m\u001b[1;33m(\u001b[0m\u001b[0mword\u001b[0m\u001b[1;33m)\u001b[0m \u001b[1;32mfor\u001b[0m \u001b[0mword\u001b[0m \u001b[1;32min\u001b[0m \u001b[0mrandom\u001b[0m\u001b[1;33m.\u001b[0m\u001b[0mtxt\u001b[0m \u001b[1;32mif\u001b[0m \u001b[0mword\u001b[0m \u001b[1;33m!=\u001b[0m \u001b[1;34m'wiki'\u001b[0m\u001b[1;33m]\u001b[0m\u001b[1;33m\u001b[0m\u001b[1;33m\u001b[0m\u001b[0m\n\u001b[0m",
      "\u001b[1;31mNameError\u001b[0m: name 'random' is not defined"
     ]
    }
   ],
   "source": [
    "with open('random.txt', 'r') as f:\n",
    "    print(f.read())\n",
    "    \n",
    "word_lengths = [len(word) for word in random.txt if word != 'wiki']"
   ]
  },
  {
   "cell_type": "markdown",
   "metadata": {},
   "source": [
    "<div class=\"alert alert-warning\">\n",
    "<b>QUESTION 6: </b> \n",
    "\n",
    "Please fill the gaps in the code below so that the output would be `Invalid type conversion.`.\n",
    "    \n",
    "```python\n",
    "try:\n",
    "    num = 'it'\n",
    "    num = int(num)\n",
    "except ________:\n",
    "    print('Invalid type conversion.')```"
   ]
  },
  {
   "cell_type": "code",
   "execution_count": 14,
   "metadata": {},
   "outputs": [
    {
     "name": "stdout",
     "output_type": "stream",
     "text": [
      "Invalid type conversion.\n"
     ]
    }
   ],
   "source": [
    "try:\n",
    "    num = 'it'\n",
    "    num = int(num)\n",
    "except ValueError:\n",
    "    print('Invalid type conversion.')"
   ]
  },
  {
   "cell_type": "markdown",
   "metadata": {},
   "source": [
    "<div class=\"alert alert-warning\">\n",
    "<b>QUESTION 7: </b> \n",
    "\n",
    "Please fill the gaps in the code below so that the output would be `The average value of the numbers in the list is: 7.08.`.\n",
    "    \n",
    "```python\n",
    "num_list = [2, 1, 9, 7, 3, 4, 5, 10, 11, 22, 4, 7]\n",
    "print('The average value of the numbers in the list is: {___}.'.format(____)```"
   ]
  },
  {
   "cell_type": "code",
   "execution_count": 17,
   "metadata": {},
   "outputs": [
    {
     "ename": "SyntaxError",
     "evalue": "unexpected EOF while parsing (<ipython-input-17-86284c88026e>, line 4)",
     "output_type": "error",
     "traceback": [
      "\u001b[1;36m  File \u001b[1;32m\"<ipython-input-17-86284c88026e>\"\u001b[1;36m, line \u001b[1;32m4\u001b[0m\n\u001b[1;33m    \u001b[0m\n\u001b[1;37m    ^\u001b[0m\n\u001b[1;31mSyntaxError\u001b[0m\u001b[1;31m:\u001b[0m unexpected EOF while parsing\n"
     ]
    }
   ],
   "source": [
    "num_list = [2, 1, 9, 7, 3, 4, 5, 10, 11, 22, 4, 7]\n",
    "import numpy as np \n",
    "print('The average value of the numbers in the list is: {np.mean(num_list)}.'.format(num_list)\n",
    "      "
   ]
  },
  {
   "cell_type": "markdown",
   "metadata": {},
   "source": [
    "<div class=\"alert alert-warning\">\n",
    "<b>QUESTION 8:</b> \n",
    "\n",
    "Create a function called `divisor` which takes one numerical argument. The function would return the value of 100 divided by the argument. If the function is called with the argument being 0, it will raise `AssertionError` with the message `Can't divide by zero.`.\n",
    "</div>"
   ]
  },
  {
   "cell_type": "code",
   "execution_count": null,
   "metadata": {},
   "outputs": [],
   "source": []
  },
  {
   "cell_type": "markdown",
   "metadata": {},
   "source": [
    "<div class=\"alert alert-warning\">\n",
    "<b>QUESTION 9: </b> \n",
    "\n",
    "Please fill the gaps in the code below:\n",
    "```python\n",
    "try:\n",
    "    _______\n",
    "except ZeroDivisionError:\n",
    "    print('Divided by zero.')\n",
    "except:\n",
    "    print('Something is wrong.')\n",
    "finally:\n",
    "    print('This is executed last.')```\n",
    "    \n",
    "The output of the code should be:\n",
    "```\n",
    "Something is wrong.\n",
    "This is executed last.```"
   ]
  },
  {
   "cell_type": "code",
   "execution_count": 18,
   "metadata": {},
   "outputs": [
    {
     "name": "stdout",
     "output_type": "stream",
     "text": [
      "Divided by zero.\n",
      "This is executed last.\n"
     ]
    }
   ],
   "source": [
    "try:\n",
    "    7/0\n",
    "except ZeroDivisionError:\n",
    "    print('Divided by zero.')\n",
    "except:\n",
    "    print('Something is wrong.')\n",
    "finally:\n",
    "    print('This is executed last.')"
   ]
  },
  {
   "cell_type": "markdown",
   "metadata": {},
   "source": [
    "<div class=\"alert alert-warning\">\n",
    "<b>QUESTION 10:</b>\n",
    "\n",
    "1, Define a list:\n",
    "\n",
    "`int_nums = [2, 3, 5, 6, 8, 9, 11, 12, 15, 18]`\n",
    "\n",
    "<br>\n",
    "2, Use <b>list comprehension</b> to create a list called <code>even_nums</code>, which contains the even numbers in <code>int_nums</code>.\n",
    "\n",
    "Print <code>even_nums</code>. The expected output is :\n",
    "\n",
    "<code>[2, 6, 8, 12, 18]</code>\n",
    "\n",
    "</div>"
   ]
  },
  {
   "cell_type": "code",
   "execution_count": 23,
   "metadata": {},
   "outputs": [
    {
     "name": "stdout",
     "output_type": "stream",
     "text": [
      "[2, 6, 8, 12, 18]\n"
     ]
    }
   ],
   "source": [
    "int_nums = [2, 3, 5, 6, 8, 9, 11, 12, 15, 18]\n",
    "even_nums = [x for x in int_nums if x%2 == 0]\n",
    "print(even_nums)\n",
    "\n"
   ]
  },
  {
   "cell_type": "markdown",
   "metadata": {},
   "source": [
    "<div class=\"alert alert-warning\">\n",
    "<b>QUESTION 11:</b>\n",
    "\n",
    "1, Define a list:\n",
    "\n",
    "`int_nums = [2, 3, 5, 6, 8, 9, 11, 12, 15, 18]`\n",
    "\n",
    "<br>\n",
    "2, Use <code>filter</code> function to remove the even numbers from the list. Print the new list, the expected output is :\n",
    "\n",
    "<code>[3, 5, 9, 11, 15]</code>\n",
    "\n",
    "</div>"
   ]
  },
  {
   "cell_type": "code",
   "execution_count": 28,
   "metadata": {},
   "outputs": [
    {
     "name": "stdout",
     "output_type": "stream",
     "text": [
      "[3, 5, 9, 11, 15]\n"
     ]
    }
   ],
   "source": [
    "int_nums = [2, 3, 5, 6, 8, 9, 11, 12, 15, 18]\n",
    "int_nums = list(filter(lambda x: x%2 != 0, int_nums))\n",
    "print(int_nums)"
   ]
  },
  {
   "cell_type": "markdown",
   "metadata": {},
   "source": [
    "<div class=\"alert alert-warning\">\n",
    "<b>QUESTION 12: </b> \n",
    "\n",
    "Please fill the gaps in the code below so that the output of it would be `Numbers: 1.24 2.3233 3.3371`.\n",
    "    \n",
    "```python\n",
    "nums = [2.3233, 1.2355, 3.3371]\n",
    "msg = \"Numbers: {____} {____} {____}\".format(nums[0],nums[1],nums[2])\n",
    "print(msg)```"
   ]
  },
  {
   "cell_type": "code",
   "execution_count": null,
   "metadata": {},
   "outputs": [],
   "source": [
    "nums = [2.3233, 1.2355, 3.3371]\n",
    "msg = \"Numbers: {____} {____} {____}\".format(nums[0],nums[1],nums[2])\n",
    "print(msg)"
   ]
  },
  {
   "cell_type": "markdown",
   "metadata": {},
   "source": [
    "<div class=\"alert alert-warning\">\n",
    "<b>QUESTION 13:</b>\n",
    "\n",
    "1, Define a string called `string_london`:\n",
    "\n",
    "`string_london = 'London is the capital and largest city of England and the United Kingdom'`\n",
    "\n",
    "<br>\n",
    "2, Use <b> one line of code</b> to create a list called <code>length_words</code>, which contains the length of each word in <code>string_london</code>.\n",
    "\n",
    "Print <code>length_words</code>. The expected output is :\n",
    "\n",
    "<code>[10, 7, 6, 2, 1, 6, 8, 10, 7, 2, 6]</code>\n",
    "\n",
    "<br>\n",
    "\n",
    "<b>DO NOT</b> create the list using <code>length_list=[10, 7, 6, 2, 1, 6, 8, 10, 7, 2, 6]</code>.\n",
    "       \n",
    "</div>"
   ]
  },
  {
   "cell_type": "code",
   "execution_count": 37,
   "metadata": {},
   "outputs": [
    {
     "name": "stdout",
     "output_type": "stream",
     "text": [
      "['London', 'is', 'the', 'capital', 'and', 'largest', 'city', 'of', 'England', 'and', 'the', 'United', 'Kingdom']\n",
      "[72]\n"
     ]
    }
   ],
   "source": [
    "def convert(string_london): \n",
    "    return ' '.join(string_london).split() \n",
    "      \n",
    "  \n",
    " \n",
    "string_london =  ['London is the capital and largest city of England and the United Kingdom'] \n",
    "print( convert(string_london)) \n",
    "\n",
    "word_lengths = [len(word) for word in string_london if word != 'London']\n",
    "print(word_lengths)\n"
   ]
  },
  {
   "cell_type": "markdown",
   "metadata": {},
   "source": [
    "<div class=\"alert alert-warning\">\n",
    "<b>QUESTION 14:</b>\n",
    "\n",
    "1, Define a list called `list_1`:\n",
    "    \n",
    "`list_1 = ['A','P','K','A','B','B','U','A','B','B','A','B']`\n",
    "\n",
    "<br>\n",
    "2, Use <b> list comprehension</b> to create a list called <code>list_2</code>, which contains all the elements from <code>list_1</code> except <code>'A'</code> and <code>'B'</code>.\n",
    "\n",
    "Print <code>list_2</code>. The expected output is :\n",
    "\n",
    "<code>['P', 'K', 'U']</code>\n",
    "    \n",
    "</div>"
   ]
  },
  {
   "cell_type": "code",
   "execution_count": 38,
   "metadata": {},
   "outputs": [
    {
     "ename": "SyntaxError",
     "evalue": "invalid syntax (<ipython-input-38-cc47611bde12>, line 2)",
     "output_type": "error",
     "traceback": [
      "\u001b[1;36m  File \u001b[1;32m\"<ipython-input-38-cc47611bde12>\"\u001b[1;36m, line \u001b[1;32m2\u001b[0m\n\u001b[1;33m    list_2 = del list_1[0, 3:5, 7:11]\u001b[0m\n\u001b[1;37m               ^\u001b[0m\n\u001b[1;31mSyntaxError\u001b[0m\u001b[1;31m:\u001b[0m invalid syntax\n"
     ]
    }
   ],
   "source": [
    "list_1 = ['A','P','K','A','B','B','U','A','B','B','A','B']\n",
    "list_2 = del list_1[0, 3:5, 7:11]\n",
    "print(list_2)\n"
   ]
  },
  {
   "cell_type": "markdown",
   "metadata": {},
   "source": [
    "<div class=\"alert alert-warning\">\n",
    "<b>QUESTION 15:</b>\n",
    "\n",
    "1, Define a list called `nums`:\n",
    "\n",
    "<code>nums = [-1, -2, -3, 4, 5, -6, -7, -8]</code>\n",
    "\n",
    "<br>\n",
    "2, Write <b>ONE LINE</b> of code to replace the negative numbers in <code>nums</code> with <code>'-'</code> and positive numbers with <code>'+'</code>. Print the new list.\n",
    "\n",
    "The expected output would be:\n",
    "<code>['-', '-', '-', '+', '+', '-', '-', '-']</code>\n",
    "\n",
    "<br>\n",
    "<b>DO NOT</b> write <code>nums = ['-', '-', '-', '+', '+', '-', '-', '-']</code>.\n",
    "    \n",
    "</div>"
   ]
  },
  {
   "cell_type": "code",
   "execution_count": 39,
   "metadata": {},
   "outputs": [
    {
     "name": "stdout",
     "output_type": "stream",
     "text": [
      "['-', '-', '-', '+', '+', '-', '-', '-']\n",
      "[0, 20.4, 0, 0, 12.2, 0, 19.7]\n"
     ]
    }
   ],
   "source": [
    "nums = [-1, -2, -3, 4, 5, -6, -7, -8]\n",
    "nums = ['-' if x < 0 else '+' for x in nums ]\n",
    "print(nums)\n"
   ]
  },
  {
   "cell_type": "markdown",
   "metadata": {},
   "source": [
    "<div class=\"alert alert-warning\">\n",
    "<b>QUESTION 16:</b>\n",
    "\n",
    "1, Define a nested list: `nested_list = [[[1,2,3], [4,5,6]], [[7,8,9], [10,11,12]]]`\n",
    "\n",
    "2, Flatten `nested_list` using **list comprehension**. Print the new list, the expected output is: `[1, 2, 3, 4, 5, 6, 7, 8, 9, 10, 11, 12]`.\n",
    "\n",
    "</div>"
   ]
  },
  {
   "cell_type": "code",
   "execution_count": 44,
   "metadata": {},
   "outputs": [
    {
     "name": "stdout",
     "output_type": "stream",
     "text": [
      "[[1, 2, 3], [4, 5, 6], [7, 8, 9], [10, 11, 12]]\n"
     ]
    }
   ],
   "source": [
    "nested_list = [[[1,2,3], [4,5,6]], [[7,8,9], [10,11,12]]]\n",
    "flat_list = [num for sub_list in nested_list for num in sub_list]\n",
    "print(flat_list)"
   ]
  },
  {
   "cell_type": "markdown",
   "metadata": {},
   "source": [
    "<div class=\"alert alert-warning\">\n",
    "<b>QUESTION 17:</b>\n",
    "\n",
    "1, Define a list called: `countries = ['afghanistan', 'Barbados', 'bahrain', 'China', 'cameroon', 'Colombia', 'Lesotho']`\n",
    " \n",
    "2, Print the indices of the items start with `c` or `C`. The expected output is:\n",
    "```    \n",
    "3\n",
    "4\n",
    "5```\n",
    "\n",
    "    \n",
    "</div>"
   ]
  },
  {
   "cell_type": "code",
   "execution_count": null,
   "metadata": {},
   "outputs": [],
   "source": [
    "countries = ['afghanistan', 'Barbados', 'bahrain', 'China', 'cameroon', 'Colombia', 'Lesotho']"
   ]
  },
  {
   "cell_type": "markdown",
   "metadata": {},
   "source": [
    "<div class=\"alert alert-warning\">\n",
    "<b>QUESTION 18:</b>\n",
    "\n",
    "1, Define a dictionary: `num_dict = {'A':123, 'B':234, 'C':345, 'D':456, 'E':567, 'F':678}`.\n",
    "\n",
    "2, Multiply each value in `num_dict` with 10 and print the new dictionary. The output should be: `{'A': 1230, 'B': 2340, 'C': 3450, 'D': 4560, 'E': 5670, 'F': 6780}`."
   ]
  },
  {
   "cell_type": "code",
   "execution_count": 45,
   "metadata": {},
   "outputs": [
    {
     "name": "stdout",
     "output_type": "stream",
     "text": [
      "{'A': 1230, 'B': 2340, 'C': 3450, 'D': 4560, 'E': 5670, 'F': 6780}\n",
      "{'A!': 123, 'B!': 234, 'C!': 345, 'D!': 456, 'E!': 567, 'F!': 678}\n"
     ]
    }
   ],
   "source": [
    "num_dict = {'A':123, 'B':234, 'C':345, 'D':456, 'E':567, 'F':678}\n",
    "num_dict = {x: y*10 for x,y in num_dict.items()}\n",
    "print(num_dict)"
   ]
  },
  {
   "cell_type": "markdown",
   "metadata": {},
   "source": [
    "<div class=\"alert alert-warning\">\n",
    "<b>QUESTION 19: </b> \n",
    "\n",
    "1, Define a list: `wiki = ['a', 'wiki', 'is', 'run', 'using', 'wiki', 'software']`.\n",
    "\n",
    "2, A new list `word_length` can be generated using the following code:\n",
    "\n",
    "```python\n",
    "wiki_new = []\n",
    "for word in wiki:\n",
    "    if not word.endswith('i'):\n",
    "        wiki_new.append(word.upper())\n",
    "```\n",
    "\n",
    "3, Please generate the list `wiki_new` using list comprehension. Print the list, the expected output is: `['A', 'IS', 'RUN', 'USING', 'SOFTWARE']`."
   ]
  },
  {
   "cell_type": "code",
   "execution_count": 46,
   "metadata": {},
   "outputs": [
    {
     "name": "stdout",
     "output_type": "stream",
     "text": [
      "[1, 2, 3, 5, 8]\n",
      "[1, 2, 3, 5, 8]\n"
     ]
    }
   ],
   "source": [
    "wiki = ['a', 'wiki', 'is', 'run', 'using', 'wiki', 'software']\n",
    "wiki_new = [word.upper() in word if not word.endswith('i')]\n",
    "print(wiki_new)\n"
   ]
  },
  {
   "cell_type": "markdown",
   "metadata": {},
   "source": [
    "<div class=\"alert alert-warning\">\n",
    "<b>QUESTION 20: </b> \n",
    "\n",
    "Write a <b>recursive</b> function that takes `n` as the argument. It would calculate the value of $ \\prod_{x=1}^{n} \\frac{1}{x} $ and return the result.\n",
    "\n",
    "    \n",
    "$ \\prod_{x=1}^{n} \\frac{1}{x} = \\underbrace{1 \\cdot  \\frac{1}{2} \\cdot \\frac{1}{3} \\cdot \\frac{1}{4} \\cdot \\frac{1}{5} \\cdots}_{\\text {from 1/1 to 1/n}} $\n",
    "\n",
    "<br>\n",
    "    \n",
    "Note: \n",
    "    \n",
    "1, The function should return 1 when calling it with argument n = 1.\n",
    " \n",
    "2, Call the function with argument n = 4, it returns the following value:\n",
    "\n",
    "  <p>$ \\prod_{n=1}^{4} \\frac{1}{n} = 1 \\cdot  \\frac{1}{2} \\cdot \\frac{1}{3} \\cdot \\frac{1}{4}=0.041666666666666664 $\n",
    "</p>\n",
    "</div>"
   ]
  },
  {
   "cell_type": "code",
   "execution_count": null,
   "metadata": {},
   "outputs": [],
   "source": []
  }
 ],
 "metadata": {
  "kernelspec": {
   "display_name": "Python 3",
   "language": "python",
   "name": "python3"
  },
  "language_info": {
   "codemirror_mode": {
    "name": "ipython",
    "version": 3
   },
   "file_extension": ".py",
   "mimetype": "text/x-python",
   "name": "python",
   "nbconvert_exporter": "python",
   "pygments_lexer": "ipython3",
   "version": "3.7.4"
  }
 },
 "nbformat": 4,
 "nbformat_minor": 2
}
